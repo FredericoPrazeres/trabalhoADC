{
 "cells": [
  {
   "cell_type": "markdown",
   "id": "29d4acc7",
   "metadata": {},
   "source": [
    "# Complex Data Analysis 2023-2024\n",
    "\n",
    "### Andreia Sofia Teixeira\n",
    "\n",
    "## TP Network Science Fundamentals - Part 1\n",
    "\n",
    "In this TP you are going to learn the very basic of network creation and exploration using NetworkX. \n",
    "\n",
    "You can use NetworkX to construct and draw graphs that are undirected or directed, with weighted or unweighted edges. An array of functions to analyze graphs is available. This tutorial takes you through a few basic examples and exercises.\n",
    "\n",
    "Note that many exercises are followed by a block with some `assert` statements. These assertions may be preceded by some setup code. They are provided to give you feedback that you are on the right path -- receiving an `AssertionError` probably means you've done something wrong.\n",
    "\n",
    "#### Based on the tutorial of Chapter 1 and Chapter 2 of the book *A First Course on Network Science*\n"
   ]
  },
  {
   "cell_type": "markdown",
   "id": "63044d67",
   "metadata": {},
   "source": [
    "# The `import` statement\n",
    "\n",
    "Recall that `import` statements go at the top of your code, telling Python to load an external module. In this case we want to load NetworkX, but give it a short alias `nx` since we'll have to type it repeatedly, hence the `as` statement.\n",
    "\n",
    "Lines starting with the `%` character are not Python code, they are \"magic\" directives for Jupyter notebook. The `%matplotlib inline` magic tells Jupyter Notebook to draw graphics inline i.e. in the notebook. This magic should be used right after the import statement."
   ]
  },
  {
   "cell_type": "code",
   "execution_count": null,
   "id": "a2dee1c5",
   "metadata": {},
   "outputs": [],
   "source": [
    "# netowrks\n",
    "import networkx as nx\n",
    "import igraph as ig\n",
    "\n",
    "# data processing\n",
    "import pandas as pd\n",
    "import numpy as np\n",
    "\n",
    "#some functions to make our lifes easier\n",
    "import sys\n",
    "sys.path.append(\"./\")\n",
    "from common_functions import *\n",
    "\n",
    "# viz\n",
    "import pylab as plt\n",
    "import seaborn as sns\n",
    "%matplotlib inline"
   ]
  },
  {
   "cell_type": "markdown",
   "id": "cee8e2af",
   "metadata": {},
   "source": [
    "Let's check the installed version of NetworkX. Version 2 is incompatible with v1, so we want to make sure we're not using an out of date package."
   ]
  },
  {
   "cell_type": "code",
   "execution_count": null,
   "id": "3d5d4e7e",
   "metadata": {},
   "outputs": [],
   "source": [
    "nx.__version__"
   ]
  },
  {
   "cell_type": "markdown",
   "id": "9f0c55b6",
   "metadata": {},
   "source": [
    "# Creating and drawing undirected graphs"
   ]
  },
  {
   "cell_type": "code",
   "execution_count": null,
   "id": "57e91c4c",
   "metadata": {},
   "outputs": [],
   "source": [
    "# a \"plain\" graph is undirected\n",
    "G = nx.Graph()\n",
    "\n",
    "# give each a node a 'name', which is a letter in this case.\n",
    "G.add_node('a')\n",
    "\n",
    "# the add_nodes_from method allows adding nodes from a sequence, in this case a list\n",
    "nodes_to_add = ['b', 'c', 'd']\n",
    "G.add_nodes_from(nodes_to_add)\n",
    "\n",
    "# add edge from 'a' to 'b'\n",
    "# since this graph is undirected, the order doesn't matter here\n",
    "G.add_edge('a', 'b')\n",
    "\n",
    "# just like add_nodes_from, we can add edges from a sequence\n",
    "# edges should be specified as 2-tuples\n",
    "edges_to_add = [('a', 'c'), ('b', 'c'), ('c', 'd')]\n",
    "G.add_edges_from(edges_to_add)\n",
    "\n",
    "# draw the graph\n",
    "nx.draw_networkx(G, with_labels=True)"
   ]
  },
  {
   "cell_type": "markdown",
   "id": "2ddb6f3b",
   "metadata": {},
   "source": [
    "There are many optional arguments to the draw function to customize the appearance."
   ]
  },
  {
   "cell_type": "code",
   "execution_count": null,
   "id": "72a4caf5",
   "metadata": {},
   "outputs": [],
   "source": [
    "nx.draw_networkx(G,\n",
    "        with_labels=True,\n",
    "        node_color='blue',\n",
    "        node_size=1600,\n",
    "        font_color='white',\n",
    "        font_size=16,\n",
    "        )"
   ]
  },
  {
   "cell_type": "markdown",
   "id": "7894179d",
   "metadata": {},
   "source": [
    "# A note on naming conventions\n",
    "\n",
    "Usually in Python, variables are named in `snake_case`, i.e. lowercase with underscores separating words. Classes are conventionally named in `CamelCase`, i.e. with the first letter of each word capitalized.\n",
    "\n",
    "Obviously NetworkX doesn't use this convention, often using single capital letters for the names of graphs. This is an example of convention leaking from the world of discrete mathematics. Since most of the documentation you will find online uses this convention, we will follow it as well."
   ]
  },
  {
   "cell_type": "markdown",
   "id": "50b720f9",
   "metadata": {},
   "source": [
    "# Graph methods\n",
    "\n",
    "The graph object has some properties and methods giving data about the whole graph."
   ]
  },
  {
   "cell_type": "code",
   "execution_count": null,
   "id": "3b76c9a5",
   "metadata": {},
   "outputs": [],
   "source": [
    "# List all of the nodes\n",
    "G.nodes()"
   ]
  },
  {
   "cell_type": "code",
   "execution_count": null,
   "id": "168bc252",
   "metadata": {},
   "outputs": [],
   "source": [
    "# List all of the edges\n",
    "G.edges()"
   ]
  },
  {
   "cell_type": "markdown",
   "id": "c9ed57cc",
   "metadata": {},
   "source": [
    "NodeView and EdgeView objects have iterators, so we can use them in `for` loops:"
   ]
  },
  {
   "cell_type": "code",
   "execution_count": null,
   "id": "3821ff03",
   "metadata": {},
   "outputs": [],
   "source": [
    "for node in G.nodes:\n",
    "    print(node)"
   ]
  },
  {
   "cell_type": "code",
   "execution_count": null,
   "id": "8b5c75e1",
   "metadata": {
    "scrolled": true
   },
   "outputs": [],
   "source": [
    "for edge in G.edges:\n",
    "    print(edge)"
   ]
  },
  {
   "cell_type": "markdown",
   "id": "5670390d",
   "metadata": {},
   "source": [
    "Note that the edges are given as 2-tuples, the same way we entered them.\n",
    "\n",
    "We can get the number of nodes and edges in a graph using the `number_of_` methods."
   ]
  },
  {
   "cell_type": "code",
   "execution_count": null,
   "id": "00679f6a",
   "metadata": {},
   "outputs": [],
   "source": [
    "G.number_of_nodes()"
   ]
  },
  {
   "cell_type": "code",
   "execution_count": null,
   "id": "ee3ad268",
   "metadata": {},
   "outputs": [],
   "source": [
    "G.number_of_edges()"
   ]
  },
  {
   "cell_type": "markdown",
   "id": "6a728c96",
   "metadata": {},
   "source": [
    "Some graph methods take an edge or node as argument. These provide the graph properties of the given edge or node. For example, the `.neighbors()` method gives the nodes linked to the given node:"
   ]
  },
  {
   "cell_type": "code",
   "execution_count": null,
   "id": "6077c5e1",
   "metadata": {},
   "outputs": [],
   "source": [
    "# list of neighbors of node 'b'\n",
    "G.neighbors('b')"
   ]
  },
  {
   "cell_type": "markdown",
   "id": "3e548756",
   "metadata": {},
   "source": [
    "For performance reasons, many graph methods return iterators instead of lists. They are convenient to loop over:"
   ]
  },
  {
   "cell_type": "code",
   "execution_count": null,
   "id": "4eec9786",
   "metadata": {},
   "outputs": [],
   "source": [
    "for neighbor in G.neighbors('b'):\n",
    "    print(neighbor)"
   ]
  },
  {
   "cell_type": "markdown",
   "id": "d8845cd1",
   "metadata": {},
   "source": [
    "and you can always use the `list` constructor to make a list from an iterator:"
   ]
  },
  {
   "cell_type": "code",
   "execution_count": null,
   "id": "5288b78e",
   "metadata": {},
   "outputs": [],
   "source": [
    "list(G.neighbors('b'))"
   ]
  },
  {
   "cell_type": "markdown",
   "id": "4c022b08",
   "metadata": {},
   "source": [
    "# NetworkX functions vs. Graph methods\n",
    "\n",
    "The previous data are available via graph *methods*, *i.e.* they are called from the graph object:\n",
    "\n",
    "    G.<method_name>(<arguments>)\n",
    "\n",
    "While several of the most-used NetworkX functions are provided as methods, many more of them are module functions and are called like this:\n",
    "\n",
    "    nx.<function_name>(G, <arguments>)\n",
    "\n",
    "that is, with the graph provided as the first, and maybe only, argument. Here are a couple of examples of NetworkX module functions that provide information about a graph:"
   ]
  },
  {
   "cell_type": "code",
   "execution_count": null,
   "id": "f914908a",
   "metadata": {},
   "outputs": [],
   "source": [
    "nx.is_tree(G)"
   ]
  },
  {
   "cell_type": "code",
   "execution_count": null,
   "id": "e1f1c996",
   "metadata": {},
   "outputs": [],
   "source": [
    "nx.is_connected(G)"
   ]
  },
  {
   "cell_type": "markdown",
   "id": "416e40da",
   "metadata": {},
   "source": [
    "# Node and edge existence\n",
    "\n",
    "To check if a node is present in a graph, you can use the `has_node()` method:"
   ]
  },
  {
   "cell_type": "code",
   "execution_count": null,
   "id": "8be40521",
   "metadata": {},
   "outputs": [],
   "source": [
    "G.has_node('a')"
   ]
  },
  {
   "cell_type": "code",
   "execution_count": null,
   "id": "07aaef70",
   "metadata": {},
   "outputs": [],
   "source": [
    "G.has_node('x')"
   ]
  },
  {
   "cell_type": "markdown",
   "id": "24718dda",
   "metadata": {},
   "source": [
    "Additionally, the loop syntax used above: `for n in G.nodes` suggests another way we can check if a node is in a graph:"
   ]
  },
  {
   "cell_type": "code",
   "execution_count": null,
   "id": "1a2c7ea5",
   "metadata": {},
   "outputs": [],
   "source": [
    "'d' in G.nodes"
   ]
  },
  {
   "cell_type": "markdown",
   "id": "913481cb",
   "metadata": {},
   "source": [
    "Likewise we can check if two nodes are connected by an edge:"
   ]
  },
  {
   "cell_type": "code",
   "execution_count": null,
   "id": "24239752",
   "metadata": {},
   "outputs": [],
   "source": [
    "G.has_edge('a', 'b')"
   ]
  },
  {
   "cell_type": "code",
   "execution_count": null,
   "id": "3d184d1a",
   "metadata": {},
   "outputs": [],
   "source": [
    "G.has_edge('a', 'd')"
   ]
  },
  {
   "cell_type": "code",
   "execution_count": null,
   "id": "3df65ff9",
   "metadata": {},
   "outputs": [],
   "source": [
    "('c', 'd') in G.edges"
   ]
  },
  {
   "cell_type": "markdown",
   "id": "38bbf859",
   "metadata": {},
   "source": [
    "# Node degree\n",
    "\n",
    "One of the most important questions we can ask about a node in a graph is how many other nodes it connects to. Using the `.neighbors()` method from above, we could formulate this question as so:"
   ]
  },
  {
   "cell_type": "code",
   "execution_count": null,
   "id": "6fd80df2",
   "metadata": {},
   "outputs": [],
   "source": [
    "len(list(G.neighbors('a')))"
   ]
  },
  {
   "cell_type": "markdown",
   "id": "5de91151",
   "metadata": {},
   "source": [
    "but this is such a common task that NetworkX provides us a graph method to do this in a much clearer way:"
   ]
  },
  {
   "cell_type": "code",
   "execution_count": null,
   "id": "5d7e88fe",
   "metadata": {},
   "outputs": [],
   "source": [
    "G.degree('a')"
   ]
  },
  {
   "cell_type": "markdown",
   "id": "30b7e847",
   "metadata": {},
   "source": [
    "# EXERCISE 1\n",
    "Often in the context of trees, a node with degree 1 is called a *leaf*. Write a function named `get_leaves` that takes a graph as an argument, loops through the nodes, and returns a list of nodes with degree 1."
   ]
  },
  {
   "cell_type": "code",
   "execution_count": null,
   "id": "aa802228",
   "metadata": {
    "scrolled": true
   },
   "outputs": [],
   "source": [
    "def get_leaves(G):\n",
    "    ##your solution"
   ]
  },
  {
   "cell_type": "code",
   "execution_count": null,
   "id": "c9984bdf",
   "metadata": {
    "scrolled": true
   },
   "outputs": [],
   "source": [
    "G = nx.Graph()\n",
    "G.add_edges_from([\n",
    "        ('a', 'b'),\n",
    "        ('a', 'd'),\n",
    "        ('c', 'd'),\n",
    "    ])\n",
    "\n",
    "assert set(get_leaves(G)) == {'c', 'b'}"
   ]
  },
  {
   "cell_type": "markdown",
   "id": "fa93674e",
   "metadata": {},
   "source": [
    "# Aside: comprehensions\n",
    "\n",
    "Often we have one sequence of values and we want to generate a new sequence by applying an operation to each item in the first. List comprehensions and generator expressions are compact ways to do this.\n",
    "\n",
    "List comprehensions are specified inside square brackets, and immediately produce a list of the result."
   ]
  },
  {
   "cell_type": "code",
   "execution_count": null,
   "id": "9683f965",
   "metadata": {},
   "outputs": [],
   "source": [
    "items = ['spider', 'y', 'banana']\n",
    "[item.upper() for item in items]"
   ]
  },
  {
   "cell_type": "markdown",
   "id": "4c6e92ec",
   "metadata": {},
   "source": [
    "In the context of NetworkX, this is often used to do something with the node or edge lists:"
   ]
  },
  {
   "cell_type": "code",
   "execution_count": null,
   "id": "a735e077",
   "metadata": {},
   "outputs": [],
   "source": [
    "print(G.nodes())\n",
    "print([G.degree(n) for n in G.nodes()])"
   ]
  },
  {
   "cell_type": "markdown",
   "id": "3ae2d45a",
   "metadata": {},
   "source": [
    "Generator expressions are slightly different as they are evaluated [lazily](https://en.wikipedia.org/wiki/Lazy_evaluation). These are specified using round braces, and if they are being expressed as a function argument, they can be specified without any braces. These are most often used in the context of aggregations like the `max` function:"
   ]
  },
  {
   "cell_type": "code",
   "execution_count": null,
   "id": "25d05aa9",
   "metadata": {},
   "outputs": [],
   "source": [
    "g = (len(item) for item in items)\n",
    "list(g)"
   ]
  },
  {
   "cell_type": "code",
   "execution_count": null,
   "id": "6dd3d575",
   "metadata": {},
   "outputs": [],
   "source": [
    "max(len(item) for item in items)"
   ]
  },
  {
   "cell_type": "code",
   "execution_count": null,
   "id": "a0ffef91",
   "metadata": {},
   "outputs": [],
   "source": [
    "sorted(item.upper() for item in items)"
   ]
  },
  {
   "cell_type": "markdown",
   "id": "1573f9b0",
   "metadata": {},
   "source": [
    "# Node names\n",
    "\n",
    "The node names don't have to be single characters -- they can be strings or integers or any immutable object, and the types can be mixed. The example below uses strings and integers for names."
   ]
  },
  {
   "cell_type": "code",
   "execution_count": null,
   "id": "13fc06a1",
   "metadata": {},
   "outputs": [],
   "source": [
    "G = nx.Graph()\n",
    "\n",
    "G.add_nodes_from(['cat','dog','virus',13])\n",
    "\n",
    "G.add_edge('cat','dog')\n",
    "\n",
    "nx.draw_networkx(G, with_labels=True, font_color='white', node_size=1000)"
   ]
  },
  {
   "cell_type": "markdown",
   "id": "5010becb",
   "metadata": {},
   "source": [
    "# Adjacency lists\n",
    "\n",
    "One compact way to represent a graph is an adjacency list. This is most useful for unweighted graphs, directed or undirected. In an adjacency list, each line contains some number of node names. The first node name is the \"source\" and each other node name on the line is a \"target\". For instance, given the following adjacency list:\n",
    "```\n",
    "a d e\n",
    "b c\n",
    "c\n",
    "d\n",
    "e\n",
    "```\n",
    "the edges are as follows:\n",
    "```\n",
    "(a, d)\n",
    "(a, e)\n",
    "(b, c)\n",
    "```\n",
    "The nodes on their own line exist so that we are sure to include any singleton nodes. Note that if our graph is undirected, we only need to specify one direction for each edge. Importantly, whether the graph is directed or undirected is often not contained in the file itself -- you have to infer it. This is one limitation of the format.\n",
    "\n",
    "In the `datasets` directory, there is a file called `friends.adjlist`. It's a plain text file, so you can open it on your computer or in GitHub, but here are its contents:"
   ]
  },
  {
   "cell_type": "code",
   "execution_count": null,
   "id": "089f8083",
   "metadata": {},
   "outputs": [],
   "source": [
    "print(open('../datasets/friends.adjlist').read())"
   ]
  },
  {
   "cell_type": "markdown",
   "id": "f7af811a",
   "metadata": {},
   "source": [
    "NetworkX provides a way to read a graph from an adjacency list: `nx.read_adjlist()`. We will name this graph SG, for social graph."
   ]
  },
  {
   "cell_type": "code",
   "execution_count": null,
   "id": "c22d4dd3",
   "metadata": {},
   "outputs": [],
   "source": [
    "SG = nx.read_adjlist('../datasets/friends.adjlist')"
   ]
  },
  {
   "cell_type": "markdown",
   "id": "a2cca07e",
   "metadata": {},
   "source": [
    "We know how to draw this graph:"
   ]
  },
  {
   "cell_type": "code",
   "execution_count": null,
   "id": "e4fafb25",
   "metadata": {},
   "outputs": [],
   "source": [
    "nx.draw_networkx(SG, node_size=2000, node_color='lightblue', with_labels=True)"
   ]
  },
  {
   "cell_type": "markdown",
   "id": "27222475",
   "metadata": {},
   "source": [
    "And we know how to get information such as the number of friends linked from a node:"
   ]
  },
  {
   "cell_type": "code",
   "execution_count": null,
   "id": "a0efb61c",
   "metadata": {},
   "outputs": [],
   "source": [
    "SG.degree('Alice')"
   ]
  },
  {
   "cell_type": "markdown",
   "id": "cc1d305a",
   "metadata": {},
   "source": [
    "# EXERCISE 2\n",
    "\n",
    "Write a function max_degree that takes a graph as its argument, and returns a 2-tuple with the name and degree of the node with highest degree."
   ]
  },
  {
   "cell_type": "code",
   "execution_count": null,
   "id": "5bdf7063",
   "metadata": {},
   "outputs": [],
   "source": [
    "def max_degree(G):\n",
    "    ##your solution"
   ]
  },
  {
   "cell_type": "code",
   "execution_count": null,
   "id": "c84d37af",
   "metadata": {},
   "outputs": [],
   "source": [
    "SG = nx.read_adjlist('../datasets/friends.adjlist')\n",
    "assert max_degree(SG) == ('Claire', 4)"
   ]
  },
  {
   "cell_type": "markdown",
   "id": "1c673230",
   "metadata": {},
   "source": [
    "# EXERCISE 3\n",
    "\n",
    "Write a function `mutual_friends` that takes a graph and two nodes as arguments, and returns a list (or set) of nodes that are linked to both given nodes. For example, in the graph `SG` drawn above,\n",
    "\n",
    "    mutual_friends(SG, 'Alice', 'Claire') == ['Frank']\n",
    "\n",
    "an empty list or set should be returned in the case where two nodes have no mutual friends, e.g. George and Bob in `SG` drawn above."
   ]
  },
  {
   "cell_type": "code",
   "execution_count": null,
   "id": "49f1b6ce",
   "metadata": {},
   "outputs": [],
   "source": [
    "def mutual_friends(G, node_1, node_2):\n",
    "    ##your solution"
   ]
  },
  {
   "cell_type": "code",
   "execution_count": null,
   "id": "96d21751",
   "metadata": {
    "scrolled": true
   },
   "outputs": [],
   "source": [
    "SG = nx.read_adjlist('../datasets/friends.adjlist')\n",
    "assert mutual_friends(SG, 'Alice', 'Claire') == ['Frank']\n",
    "assert mutual_friends(SG, 'George', 'Bob') == []\n",
    "assert sorted(mutual_friends(SG, 'Claire', 'George')) == ['Dennis', 'Frank']"
   ]
  },
  {
   "cell_type": "markdown",
   "id": "df6c2d90",
   "metadata": {},
   "source": [
    "# Directed graphs\n",
    "\n",
    "Unless otherwise specified, we assume graph edges are undirected -- they are symmetric and go both ways. But some relationships, e.g. predator-prey relationships, are asymmetric and best represented as directed graphs. NetworkX provides the `DiGraph` class for directed graphs."
   ]
  },
  {
   "cell_type": "code",
   "execution_count": null,
   "id": "ad21ca28",
   "metadata": {},
   "outputs": [],
   "source": [
    "D = nx.DiGraph()\n",
    "\n",
    "D.add_edges_from([(1,2),(2,3),(3,2),(3,4),(3,5),(4,5),(4,6),(5,6),(6,4),(4,2)])\n",
    "\n",
    "nx.draw_networkx(D, with_labels=True)"
   ]
  },
  {
   "cell_type": "markdown",
   "id": "85a09f70",
   "metadata": {},
   "source": [
    "Note the asymmetry in graph methods dealing with edges such as `has_edge()`:"
   ]
  },
  {
   "cell_type": "code",
   "execution_count": null,
   "id": "4c337e17",
   "metadata": {},
   "outputs": [],
   "source": [
    "D.has_edge(1,2)"
   ]
  },
  {
   "cell_type": "code",
   "execution_count": null,
   "id": "04615575",
   "metadata": {},
   "outputs": [],
   "source": [
    "D.has_edge(2,1)"
   ]
  },
  {
   "cell_type": "markdown",
   "id": "4bb7b268",
   "metadata": {},
   "source": [
    "Instead of the symmetric relationship \"neighbors\", nodes in directed graphs have predecessors (\"in-neighbors\") and successors (\"out-neighbors\"):"
   ]
  },
  {
   "cell_type": "code",
   "execution_count": null,
   "id": "20b8bae2",
   "metadata": {},
   "outputs": [],
   "source": [
    "print('Successors of 2:', list(D.successors(2)))\n",
    "\n",
    "print('Predecessors of 2:', list(D.predecessors(2)))"
   ]
  },
  {
   "cell_type": "markdown",
   "id": "bfe8dfc8",
   "metadata": {},
   "source": [
    "Directed graphs have in-degree and out-degree, giving the number of edges pointing to and from the given node, respectively:"
   ]
  },
  {
   "cell_type": "code",
   "execution_count": null,
   "id": "fca2028e",
   "metadata": {},
   "outputs": [],
   "source": [
    "D.in_degree(2)"
   ]
  },
  {
   "cell_type": "code",
   "execution_count": null,
   "id": "d5bcc344",
   "metadata": {},
   "outputs": [],
   "source": [
    "D.out_degree(2)"
   ]
  },
  {
   "cell_type": "markdown",
   "id": "e2b8eb66",
   "metadata": {},
   "source": [
    "### Caveat\n",
    "\n",
    "Since NetworkX 2, the `.degree()` method on a directed graph gives the total degree: in-degree plus out-degree. However, in a bit of confusing nomenclature, the `neighbors` method is a synonym for `successors`, giving only the edges originating from the given node. This makes sense if you consider `neighbors` to be all the nodes reachable from the given node by following links, but it's easy to make the mistake of writing `.neighbors()` in your code when you really want both predecessors and successors."
   ]
  },
  {
   "cell_type": "code",
   "execution_count": null,
   "id": "1d3fdb03",
   "metadata": {},
   "outputs": [],
   "source": [
    "D.degree(2)"
   ]
  },
  {
   "cell_type": "code",
   "execution_count": null,
   "id": "f065cc25",
   "metadata": {},
   "outputs": [],
   "source": [
    "print('Successors of 2:', list(D.successors(2)))\n",
    "print('\"Neighbors\" of 2:', list(D.neighbors(2)))"
   ]
  },
  {
   "cell_type": "markdown",
   "id": "fea6b4af",
   "metadata": {},
   "source": [
    "# Paths\n",
    "\n",
    "Let's start with a very simple, undirected network."
   ]
  },
  {
   "cell_type": "code",
   "execution_count": null,
   "id": "b5ae80c0",
   "metadata": {},
   "outputs": [],
   "source": [
    "G = nx.Graph()\n",
    "\n",
    "G.add_nodes_from([1,2,3,4])\n",
    "\n",
    "G.add_edges_from([(1,2),(2,3),(1,3),(1,4)])\n",
    "\n",
    "nx.draw_networkx(G, with_labels=True)"
   ]
  },
  {
   "cell_type": "markdown",
   "id": "7e27aec1",
   "metadata": {},
   "source": [
    "A *path* in a network is a sequence of edges connecting two nodes. In this simple example, we can easily see that there is indeed at least one path that connects nodes 3 and 4. We can verify this with NetworkX:"
   ]
  },
  {
   "cell_type": "code",
   "execution_count": null,
   "id": "9a5c9aa5",
   "metadata": {},
   "outputs": [],
   "source": [
    "nx.has_path(G, 3, 4)"
   ]
  },
  {
   "cell_type": "markdown",
   "id": "deaa141b",
   "metadata": {},
   "source": [
    "There can be more than one path between two nodes. Again considering nodes 3 and 4, there are two such \"simple\" paths:"
   ]
  },
  {
   "cell_type": "code",
   "execution_count": null,
   "id": "419a5819",
   "metadata": {},
   "outputs": [],
   "source": [
    "list(nx.all_simple_paths(G, 3, 4))"
   ]
  },
  {
   "cell_type": "markdown",
   "id": "af8dad07",
   "metadata": {},
   "source": [
    "A simple path is one without any cycles. If we allowed cycles, there would be infinitely many paths because one could always just go around the cycle as many times as desired.\n",
    "\n",
    "We are often most interested in *shortest* paths. In an unweighted network, the shortest path is the one with the fewest edges. We can see that of the two simple paths between nodes 3 and 4, one is shorter than the other. We can get this shortest path with a single NetworkX function:"
   ]
  },
  {
   "cell_type": "code",
   "execution_count": null,
   "id": "94a3bc90",
   "metadata": {},
   "outputs": [],
   "source": [
    "nx.shortest_path(G, 3, 4)"
   ]
  },
  {
   "cell_type": "markdown",
   "id": "f8324c56",
   "metadata": {},
   "source": [
    "If you only care about the path length, there's a function for that too:"
   ]
  },
  {
   "cell_type": "code",
   "execution_count": null,
   "id": "915a79ed",
   "metadata": {},
   "outputs": [],
   "source": [
    "nx.shortest_path_length(G, 3, 4)"
   ]
  },
  {
   "cell_type": "markdown",
   "id": "1ad9efd6",
   "metadata": {},
   "source": [
    "Note that a path length is defined here by the number of *edges* in the path, not the number of nodes, which implies\n",
    "\n",
    "    nx.shortest_path_length(G, u, v) == len(nx.shortest_path(G, u, v)) - 1\n",
    "    \n",
    "for nodes $u$ and $v$."
   ]
  },
  {
   "cell_type": "markdown",
   "id": "b70f07a7",
   "metadata": {},
   "source": [
    "# Connected components\n",
    "\n",
    "In the simple network above, we can see that for *every* pair of nodes, we can find a path connecting them. This is the definition of a *connected* graph. We can check this property for a given graph:"
   ]
  },
  {
   "cell_type": "code",
   "execution_count": null,
   "id": "7c9873e5",
   "metadata": {},
   "outputs": [],
   "source": [
    "nx.is_connected(G)"
   ]
  },
  {
   "cell_type": "markdown",
   "id": "d6cbf1ee",
   "metadata": {},
   "source": [
    "Not every graph is connected:"
   ]
  },
  {
   "cell_type": "code",
   "execution_count": null,
   "id": "4e8f42c2",
   "metadata": {},
   "outputs": [],
   "source": [
    "G = nx.Graph()\n",
    "\n",
    "nx.add_cycle(G, (1,2,3))\n",
    "G.add_edge(4,5)\n",
    "\n",
    "nx.draw_networkx(G, with_labels=True)"
   ]
  },
  {
   "cell_type": "code",
   "execution_count": null,
   "id": "f13c1a70",
   "metadata": {},
   "outputs": [],
   "source": [
    "nx.is_connected(G)"
   ]
  },
  {
   "cell_type": "markdown",
   "id": "38a04141",
   "metadata": {},
   "source": [
    "And NetworkX will raise an error if you ask for a path between nodes where none exists:"
   ]
  },
  {
   "cell_type": "code",
   "execution_count": null,
   "id": "a051bea8",
   "metadata": {},
   "outputs": [],
   "source": [
    "nx.has_path(G, 3, 5)"
   ]
  },
  {
   "cell_type": "code",
   "execution_count": null,
   "id": "cd5ae42c",
   "metadata": {
    "scrolled": true,
    "tags": [
     "raises-exception"
    ]
   },
   "outputs": [],
   "source": [
    "nx.shortest_path(G, 3, 5)"
   ]
  },
  {
   "cell_type": "markdown",
   "id": "1043478c",
   "metadata": {},
   "source": [
    "Visually, we can identify two connected components in our graph. Let's verify this:"
   ]
  },
  {
   "cell_type": "code",
   "execution_count": null,
   "id": "15cb7017",
   "metadata": {},
   "outputs": [],
   "source": [
    "nx.number_connected_components(G)"
   ]
  },
  {
   "cell_type": "markdown",
   "id": "d40b82f4",
   "metadata": {},
   "source": [
    "The `nx.connected_components()` function takes a graph and returns a list of sets of node names, one such set for each connected component. Verify that the two sets in the following list correspond to the two connected components in the drawing of the graph above:"
   ]
  },
  {
   "cell_type": "code",
   "execution_count": null,
   "id": "4dddf61f",
   "metadata": {},
   "outputs": [],
   "source": [
    "list(nx.connected_components(G))"
   ]
  },
  {
   "cell_type": "markdown",
   "id": "97cf3e65",
   "metadata": {},
   "source": [
    "In case you're not familiar with Python sets, they are collections of items without duplicates. These are useful for collecting node names because node names should be unique. As with other collections, we can get the number of items in a set with the `len` function:"
   ]
  },
  {
   "cell_type": "code",
   "execution_count": null,
   "id": "8f43ad14",
   "metadata": {},
   "outputs": [],
   "source": [
    "components = list(nx.connected_components(G))\n",
    "len(components[0])"
   ]
  },
  {
   "cell_type": "markdown",
   "id": "12952a53",
   "metadata": {},
   "source": [
    "We often care about the largest connected component, which is sometimes referred to as the *core* of the network. We can make use of Python's builtin `max` function in order to obtain the largest connected component. By default, Python's `max` function sorts things in lexicographic (i.e. alphabetical) order, which is not helpful here. We want the maximum connected component when sorted in order of their sizes, so we pass `len` as a key function:"
   ]
  },
  {
   "cell_type": "code",
   "execution_count": null,
   "id": "a1d89bb7",
   "metadata": {},
   "outputs": [],
   "source": [
    "max(nx.connected_components(G), key=len)"
   ]
  },
  {
   "cell_type": "markdown",
   "id": "1487506b",
   "metadata": {},
   "source": [
    "While it's often enough to just have the list of node names, sometimes we need the actual subgraph consisting of the largest connected component. One way to get this is to pass the list of node names to the `G.subgraph()` function:"
   ]
  },
  {
   "cell_type": "code",
   "execution_count": null,
   "id": "7068b7e2",
   "metadata": {},
   "outputs": [],
   "source": [
    "core_nodes = max(nx.connected_components(G), key=len)\n",
    "core = G.subgraph(core_nodes)\n",
    "\n",
    "nx.draw_networkx(core, with_labels=True)"
   ]
  },
  {
   "cell_type": "markdown",
   "id": "14006088",
   "metadata": {},
   "source": [
    "Those of you using tab-completion will also notice a `nx.connected_component_subgraphs()` function. This can also be used to get the core subgraph but the method shown is more efficient when you only care about the largest connected component."
   ]
  },
  {
   "cell_type": "markdown",
   "id": "9d88abed",
   "metadata": {},
   "source": [
    "# Directed paths & components\n",
    "\n",
    "Let's extend these ideas about paths and connected components to directed graphs."
   ]
  },
  {
   "cell_type": "code",
   "execution_count": null,
   "id": "adf78043",
   "metadata": {},
   "outputs": [],
   "source": [
    "D = nx.DiGraph()\n",
    "D.add_edges_from([\n",
    "    (1,2),\n",
    "    (2,3),\n",
    "    (3,2), (3,4), (3,5),\n",
    "    (4,2), (4,5), (4,6),\n",
    "    (5,6),\n",
    "    (6,4),\n",
    "])\n",
    "nx.draw_networkx(D, with_labels=True)"
   ]
  },
  {
   "cell_type": "markdown",
   "id": "af5e3e44",
   "metadata": {},
   "source": [
    "### Directed paths\n",
    "\n",
    "We know that in a directed graph, an edge from an arbitrary node $u$ to an arbitrary node $v$ does not imply that an edge exists from $v$ to $u$. Since paths must follow edge direction in directed graphs, the same asymmetry applies for paths. Observe that this graph has a path from 1 to 4, but not in the reverse direction."
   ]
  },
  {
   "cell_type": "code",
   "execution_count": null,
   "id": "c00b0741",
   "metadata": {},
   "outputs": [],
   "source": [
    "nx.has_path(D, 1, 4)"
   ]
  },
  {
   "cell_type": "code",
   "execution_count": null,
   "id": "c659241f",
   "metadata": {},
   "outputs": [],
   "source": [
    "nx.has_path(D, 4, 1)"
   ]
  },
  {
   "cell_type": "markdown",
   "id": "fc871549",
   "metadata": {},
   "source": [
    "The other NetworkX functions dealing with paths take this asymmetry into account as well:"
   ]
  },
  {
   "cell_type": "code",
   "execution_count": null,
   "id": "b3e2e211",
   "metadata": {},
   "outputs": [],
   "source": [
    "nx.shortest_path(D, 2, 5)"
   ]
  },
  {
   "cell_type": "code",
   "execution_count": null,
   "id": "2bc5a903",
   "metadata": {},
   "outputs": [],
   "source": [
    "nx.shortest_path(D, 5, 2)"
   ]
  },
  {
   "cell_type": "markdown",
   "id": "6cbbd2f9",
   "metadata": {},
   "source": [
    "Since there is no edge from 5 to 3, the shortest path from 5 to 2 cannot simply backtrack the shortest path from 2 to 5 -- it has to go a longer route through nodes 6 and 4."
   ]
  },
  {
   "cell_type": "markdown",
   "id": "6b9102dc",
   "metadata": {},
   "source": [
    "### Directed components"
   ]
  },
  {
   "cell_type": "markdown",
   "id": "21622a62",
   "metadata": {},
   "source": [
    "Directed networks have two kinds of connectivity. *Strongly connected* means that there exists a directed path between every pair of nodes, i.e., that from any node we can get to any other node while following edge directionality. Think of cars on a network of one-way streets: they can't drive against the flow of traffic."
   ]
  },
  {
   "cell_type": "code",
   "execution_count": null,
   "id": "7e4b4d40",
   "metadata": {},
   "outputs": [],
   "source": [
    "nx.is_strongly_connected(D)"
   ]
  },
  {
   "cell_type": "markdown",
   "id": "4f233c4f",
   "metadata": {},
   "source": [
    "*Weakly connected* means that there exist a path between every pair of nodes, regardless of direction. Think about pedestrians on a network of one-way streets: they walk on the sidewalks so they don't care about the direction of traffic."
   ]
  },
  {
   "cell_type": "code",
   "execution_count": null,
   "id": "685eb782",
   "metadata": {},
   "outputs": [],
   "source": [
    "nx.is_weakly_connected(D)"
   ]
  },
  {
   "cell_type": "markdown",
   "id": "6ce96b4c",
   "metadata": {},
   "source": [
    "If a network is strongly connected, it is also weakly connected. The converse is not always true, as seen in this example.\n",
    "\n",
    "The `is_connected` function for undirected graphs will raise an error when given a directed graph."
   ]
  },
  {
   "cell_type": "code",
   "execution_count": null,
   "id": "8f76d13c",
   "metadata": {
    "tags": [
     "raises-exception"
    ]
   },
   "outputs": [],
   "source": [
    "# This will raise an error\n",
    "nx.is_connected(D)"
   ]
  },
  {
   "cell_type": "markdown",
   "id": "a66b1719",
   "metadata": {},
   "source": [
    "In the directed case, instead of `nx.connected_components` we now have `nx.weakly_connected_components` and `nx.strongly_connected_components`:"
   ]
  },
  {
   "cell_type": "code",
   "execution_count": null,
   "id": "7d776359",
   "metadata": {},
   "outputs": [],
   "source": [
    "list(nx.weakly_connected_components(D))"
   ]
  },
  {
   "cell_type": "code",
   "execution_count": null,
   "id": "d23c42be",
   "metadata": {},
   "outputs": [],
   "source": [
    "list(nx.strongly_connected_components(D))"
   ]
  },
  {
   "cell_type": "markdown",
   "id": "5c5a5654",
   "metadata": {},
   "source": [
    "# Dataset: US air traffic network\n",
    "\n",
    "This repository contains several example network datasets. Among these is a network of US air travel routes:"
   ]
  },
  {
   "cell_type": "code",
   "execution_count": null,
   "id": "bbdab75e",
   "metadata": {},
   "outputs": [],
   "source": [
    "G = nx.read_graphml('../datasets/openflights/openflights_usa.graphml.gz')"
   ]
  },
  {
   "cell_type": "markdown",
   "id": "3659aaa6",
   "metadata": {},
   "source": [
    "The nodes in this graph are airports, represented by their [IATA codes](https://en.wikipedia.org/wiki/List_of_airports_by_IATA_code:_A); two nodes are connected with an edge if there is a scheduled flight directly connecting these two airports. We'll assume this graph to be undirected since a flight in one direction usually means there is a return flight.\n",
    "\n",
    "Thus this graph has edges\n",
    "```\n",
    "[('HOM', 'ANC'), ('BGM', 'PHL'), ('BGM', 'IAD'), ...]\n",
    "```\n",
    "where ANC is Anchorage, IAD is Washington Dulles, etc.\n",
    "\n",
    "These nodes also have **attributes** associated with them, containing additional information about the airports:"
   ]
  },
  {
   "cell_type": "code",
   "execution_count": null,
   "id": "27a345b7",
   "metadata": {},
   "outputs": [],
   "source": [
    "G.nodes['IND']"
   ]
  },
  {
   "cell_type": "markdown",
   "id": "9564e7af",
   "metadata": {},
   "source": [
    "Node attributes are stored as a dictionary, so the values can be accessed individually as such:"
   ]
  },
  {
   "cell_type": "code",
   "execution_count": null,
   "id": "59340bb9",
   "metadata": {},
   "outputs": [],
   "source": [
    "G.nodes['IND']['name']"
   ]
  },
  {
   "cell_type": "markdown",
   "id": "53b26fd4",
   "metadata": {},
   "source": [
    "# EXERCISE 4\n",
    "\n",
    "Is there a direct flight between Indianapolis and Fairbanks, Alaska (FAI)? A direct flight is one with no intermediate stops."
   ]
  },
  {
   "cell_type": "code",
   "execution_count": null,
   "id": "cd0f24d5",
   "metadata": {},
   "outputs": [],
   "source": [
    "##your solution"
   ]
  },
  {
   "cell_type": "markdown",
   "id": "1d534b09",
   "metadata": {},
   "source": [
    "# EXERCISE 5\n",
    "\n",
    "If I wanted to fly from Indianapolis to Fairbanks, Alaska what would be an itinerary with the fewest number of flights?"
   ]
  },
  {
   "cell_type": "code",
   "execution_count": null,
   "id": "6efa6494",
   "metadata": {
    "tags": []
   },
   "outputs": [],
   "source": [
    "##your solution"
   ]
  },
  {
   "cell_type": "markdown",
   "id": "fcd63173",
   "metadata": {},
   "source": [
    "# EXERCISE 6\n",
    "\n",
    "Is it possible to travel from any airport in the US to any other airport in the US, possibly using connecting flights? In other words, does there exist a path in the network between every possible pair of airports?"
   ]
  },
  {
   "cell_type": "code",
   "execution_count": null,
   "id": "70ebe4c5",
   "metadata": {
    "tags": []
   },
   "outputs": [],
   "source": [
    "##your solution"
   ]
  }
 ],
 "metadata": {
  "kernelspec": {
   "display_name": "Python 3 (ipykernel)",
   "language": "python",
   "name": "python3"
  },
  "language_info": {
   "codemirror_mode": {
    "name": "ipython",
    "version": 3
   },
   "file_extension": ".py",
   "mimetype": "text/x-python",
   "name": "python",
   "nbconvert_exporter": "python",
   "pygments_lexer": "ipython3",
   "version": "3.10.4"
  }
 },
 "nbformat": 4,
 "nbformat_minor": 5
}
