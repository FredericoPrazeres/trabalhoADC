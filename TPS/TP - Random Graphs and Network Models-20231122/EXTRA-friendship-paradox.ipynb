{
 "cells": [
  {
   "cell_type": "markdown",
   "metadata": {
    "id": "SPiw3Y6utILf"
   },
   "source": [
    "## Let's examine the friendship paradox with `networkx`\n",
    "\n",
    "### Extra notebook borrowed by another network science course.\n",
    "\n",
    "To get a good intuitive understanding of the _friendship paradox_, we are going to work through some problems and examples in this notebook. The goal is empirically testing the friendship paradox with multiple types of networks. "
   ]
  },
  {
   "cell_type": "markdown",
   "metadata": {
    "id": "7nApvbTEuUva"
   },
   "source": [
    "First of all, you can ensure that all results are exactly reproducible by fixing the seed for the random number generator. This is a common technique for checking your computation that involves non-deterministic methods. "
   ]
  },
  {
   "cell_type": "code",
   "execution_count": null,
   "metadata": {
    "executionInfo": {
     "elapsed": 2,
     "status": "ok",
     "timestamp": 1675009546791,
     "user": {
      "displayName": "Ashutosh Hathidara",
      "userId": "09642124213384184129"
     },
     "user_tz": 300
    },
    "id": "8c4yDVEytILg"
   },
   "outputs": [],
   "source": [
    "# Please use this random seed for submission.\n",
    "import random\n",
    "random.seed(42)     \n",
    "   \n",
    "import numpy as np\n",
    "np.random.seed(42)"
   ]
  },
  {
   "cell_type": "markdown",
   "metadata": {
    "id": "kOsewzl4uPao"
   },
   "source": [
    "## Step 1: Using networkx\n",
    "\n",
    "We are going to start by importing the networkx module:"
   ]
  },
  {
   "cell_type": "code",
   "execution_count": null,
   "metadata": {
    "executionInfo": {
     "elapsed": 287,
     "status": "ok",
     "timestamp": 1675009546791,
     "user": {
      "displayName": "Ashutosh Hathidara",
      "userId": "09642124213384184129"
     },
     "user_tz": 300
    },
    "id": "8wk0jYLZtILf"
   },
   "outputs": [],
   "source": [
    "import networkx as nx"
   ]
  },
  {
   "cell_type": "markdown",
   "metadata": {
    "id": "H714NlibtILg"
   },
   "source": [
    "`import xxxxx as xx` is a common way to use widely-used Python libraries. By importing this way, we can use any of the library's classes and functions by prepending the name of the class or function with: \n",
    "\n",
    "```\n",
    "nx.\n",
    "```\n",
    "\n",
    "Networkx has extensive documention with many examples. Whenever unsure about the module, go to [the official documentation page](https://networkx.org/documentation/stable/index.html#) and search for the keywords that you are unsure about. In particular, [the official tutorial](https://networkx.org/documentation/stable/tutorial.html) is the best place to learn about the basic usage of `networkx` library. \n",
    "\n",
    "Let's start by making a simple undirected graph by hand:"
   ]
  },
  {
   "cell_type": "code",
   "execution_count": null,
   "metadata": {
    "executionInfo": {
     "elapsed": 408,
     "status": "ok",
     "timestamp": 1675009549342,
     "user": {
      "displayName": "Ashutosh Hathidara",
      "userId": "09642124213384184129"
     },
     "user_tz": 300
    },
    "id": "2m6t3WActILg"
   },
   "outputs": [],
   "source": [
    "# Creates an instance of a networkx graph.\n",
    "my_first_graph = nx.Graph() \n",
    "\n",
    "# Lets add some nodes to the graph\n",
    "my_first_graph.add_node(1)\n",
    "my_first_graph.add_node(2)\n",
    "my_first_graph.add_node(3)\n",
    "\n",
    "# Now lets add some connections\n",
    "my_first_graph.add_edge(1, 2)\n",
    "my_first_graph.add_edge(3, 2)"
   ]
  },
  {
   "cell_type": "markdown",
   "metadata": {
    "id": "Ct1SA_xWtILg"
   },
   "source": [
    "We now have our first graph, which contains 3 nodes and 2 edges. We can look at it too by using `draw()` function. By the way, depending on the environment, you may have to import `matplotlib` first (see the `networkx` tutorial). \n",
    "\n",
    "`Networkx` is underpowered for network visualization and it is rarely used for any serious network visualization. However, it has basic visualization capacity that is perfectly adequate for examining small networks. "
   ]
  },
  {
   "cell_type": "code",
   "execution_count": null,
   "metadata": {
    "colab": {
     "base_uri": "https://localhost:8080/",
     "height": 319
    },
    "executionInfo": {
     "elapsed": 315,
     "status": "ok",
     "timestamp": 1675009549655,
     "user": {
      "displayName": "Ashutosh Hathidara",
      "userId": "09642124213384184129"
     },
     "user_tz": 300
    },
    "id": "Y01UL2Uev_7G",
    "outputId": "58a8e9d2-169f-4d94-8198-09c2dc50214a"
   },
   "outputs": [],
   "source": [
    "nx.draw_networkx(my_first_graph, with_labels=True)"
   ]
  },
  {
   "cell_type": "markdown",
   "metadata": {
    "id": "12C9kg1LwaIl"
   },
   "source": [
    "`add_node()` and `add_edge()` are **methods** of the class ```Graph```. Methods are member functions of classes in python and can be called from an object by using the ```.``` notation followed by the method name. We can find out some basic information about this graph using networkx functions and some default python functions:"
   ]
  },
  {
   "cell_type": "code",
   "execution_count": null,
   "metadata": {
    "colab": {
     "base_uri": "https://localhost:8080/"
    },
    "executionInfo": {
     "elapsed": 9,
     "status": "ok",
     "timestamp": 1675009550466,
     "user": {
      "displayName": "Ashutosh Hathidara",
      "userId": "09642124213384184129"
     },
     "user_tz": 300
    },
    "id": "J4GrTHY_tILh",
    "outputId": "a2d6048a-e9aa-4479-dc6b-e15246855207"
   },
   "outputs": [],
   "source": [
    "# len() is a python function that can be applied to any object to obtain their length. \n",
    "# networkx defines the number of nodes as the \"length\" of a graph object. \n",
    "len(my_first_graph) "
   ]
  },
  {
   "cell_type": "markdown",
   "metadata": {
    "id": "mIy9DGRpxlFL"
   },
   "source": [
    "We can also look at the neighbors of a node. "
   ]
  },
  {
   "cell_type": "code",
   "execution_count": null,
   "metadata": {
    "colab": {
     "base_uri": "https://localhost:8080/"
    },
    "executionInfo": {
     "elapsed": 5,
     "status": "ok",
     "timestamp": 1675009551677,
     "user": {
      "displayName": "Ashutosh Hathidara",
      "userId": "09642124213384184129"
     },
     "user_tz": 300
    },
    "id": "jPnSmHpSxmwC",
    "outputId": "0f1cec60-1535-4700-e4e6-3d723683df2d"
   },
   "outputs": [],
   "source": [
    "my_first_graph[2]"
   ]
  },
  {
   "cell_type": "code",
   "execution_count": null,
   "metadata": {
    "colab": {
     "base_uri": "https://localhost:8080/"
    },
    "executionInfo": {
     "elapsed": 320,
     "status": "ok",
     "timestamp": 1675009551993,
     "user": {
      "displayName": "Ashutosh Hathidara",
      "userId": "09642124213384184129"
     },
     "user_tz": 300
    },
    "id": "G3Nuenr0yQ-2",
    "outputId": "f59b0ed7-e5d4-4098-87b9-de851421f994"
   },
   "outputs": [],
   "source": [
    "my_first_graph.neighbors(2)"
   ]
  },
  {
   "cell_type": "markdown",
   "metadata": {
    "id": "mQpufEDT3quq"
   },
   "source": [
    "Ok. These are not exactly a list, set, or dictionary that you might have expected. `Networkx` uses \"views\" to let users to examine _read-only_ set- or dictionary-like data structures. For instance, the [`AtlasView`](https://networkx.org/documentation/stable/reference/classes/generated/networkx.classes.coreviews.AtlasView.html) is a \"view\" of a _dictionary of dictionaries_. Each node may have some attributes (e.g., labels, size, etc.) and they hold these attributes as a dictionary. Therefore, a set of neighbors of a node is a dictionary, where the keys are the neighbor nodes and the values are the attribute dictionary of each node. \n",
    "\n",
    "Similarly, calling the `neighbors()` method returns a 'key iterator' of the same dictionary. An iterator yields each successive item. Read about iterators and generators if you are not familiar with them. \n",
    "\n",
    "In both cases, you can convert them into a list like the following, "
   ]
  },
  {
   "cell_type": "code",
   "execution_count": null,
   "metadata": {
    "colab": {
     "base_uri": "https://localhost:8080/"
    },
    "executionInfo": {
     "elapsed": 640,
     "status": "ok",
     "timestamp": 1675009553236,
     "user": {
      "displayName": "Ashutosh Hathidara",
      "userId": "09642124213384184129"
     },
     "user_tz": 300
    },
    "id": "zB8EZ1mLvdbM",
    "outputId": "f2febb83-c940-47ff-f7a0-b3b083a6e134"
   },
   "outputs": [],
   "source": [
    "print(list(my_first_graph[2]))\n",
    "print(list(my_first_graph.neighbors(2)))"
   ]
  },
  {
   "cell_type": "markdown",
   "metadata": {
    "id": "dGbZnTYpvqBt"
   },
   "source": [
    "Or iterate over the neighbors. "
   ]
  },
  {
   "cell_type": "code",
   "execution_count": null,
   "metadata": {
    "colab": {
     "base_uri": "https://localhost:8080/"
    },
    "executionInfo": {
     "elapsed": 4,
     "status": "ok",
     "timestamp": 1675009553543,
     "user": {
      "displayName": "Ashutosh Hathidara",
      "userId": "09642124213384184129"
     },
     "user_tz": 300
    },
    "id": "1pMmMWojvtro",
    "outputId": "79560e0a-67b1-486d-dc72-ec3696d57380"
   },
   "outputs": [],
   "source": [
    "for node in my_first_graph[2]:\n",
    "    print(node)\n",
    "\n",
    "print([node for node in my_first_graph.neighbors(2)])"
   ]
  },
  {
   "cell_type": "markdown",
   "metadata": {
    "id": "J8ynON_MwIi9"
   },
   "source": [
    "To examine the friendship paradox, we need to also be able to calculate the degree. Once we have the set/list of neighbors, of course we can simply count them. But `networkx` also provides a `degree()` method as well. "
   ]
  },
  {
   "cell_type": "code",
   "execution_count": null,
   "metadata": {
    "colab": {
     "base_uri": "https://localhost:8080/"
    },
    "executionInfo": {
     "elapsed": 3,
     "status": "ok",
     "timestamp": 1675009554581,
     "user": {
      "displayName": "Ashutosh Hathidara",
      "userId": "09642124213384184129"
     },
     "user_tz": 300
    },
    "id": "4oHeCRbutILh",
    "outputId": "f08c829d-1c11-40f4-99b0-9ac76e24e565"
   },
   "outputs": [],
   "source": [
    "print(\"Node 2's degree: \", my_first_graph.degree(2))"
   ]
  },
  {
   "cell_type": "markdown",
   "metadata": {
    "id": "PeD0lEc1tILh"
   },
   "source": [
    "Make sure to review the documentation on both of these functions ([degree](https://networkx.github.io/documentation/stable/reference/classes/generated/networkx.Graph.degree.html) and [neighbors](https://networkx.github.io/documentation/stable/reference/classes/generated/networkx.Graph.neighbors.html)) so you are aware what additional arguments you can give. For instance, degree can take a sequence of nodes as an argument and return a sequence of corresponding degrees.\n",
    "\n",
    "We can also combine python control statements with `networkx` functions:"
   ]
  },
  {
   "cell_type": "code",
   "execution_count": null,
   "metadata": {
    "colab": {
     "base_uri": "https://localhost:8080/"
    },
    "executionInfo": {
     "elapsed": 423,
     "status": "ok",
     "timestamp": 1675009556478,
     "user": {
      "displayName": "Ashutosh Hathidara",
      "userId": "09642124213384184129"
     },
     "user_tz": 300
    },
    "id": "_L3UB5f0tILh",
    "outputId": "3927b81c-bc79-4a3b-ec1b-945cdbd4ec99"
   },
   "outputs": [],
   "source": [
    "# Lets get all the neighbors for each node in the graph\n",
    "for node in my_first_graph.nodes():\n",
    "    print(\"Node\", node, \"'s neighbors:\", set(my_first_graph.neighbors(node)))"
   ]
  },
  {
   "cell_type": "markdown",
   "metadata": {
    "id": "Y6CamaUStILh"
   },
   "source": [
    "This `for` loop iterates over the list returned by the networkx graph method `nodes()`. This graph method returns a list of each node in the network. Similarly, we can loop over edges using `edges()`."
   ]
  },
  {
   "cell_type": "code",
   "execution_count": null,
   "metadata": {
    "colab": {
     "base_uri": "https://localhost:8080/"
    },
    "executionInfo": {
     "elapsed": 3,
     "status": "ok",
     "timestamp": 1675009558762,
     "user": {
      "displayName": "Ashutosh Hathidara",
      "userId": "09642124213384184129"
     },
     "user_tz": 300
    },
    "id": "kAxvCBUvtILi",
    "outputId": "2071b940-415a-4a57-8490-338e5e4d1467"
   },
   "outputs": [],
   "source": [
    "# Quick example of iterating over edges\n",
    "for edge in my_first_graph.edges():\n",
    "    print(edge)"
   ]
  },
  {
   "cell_type": "markdown",
   "metadata": {
    "id": "Kb61tOuRtILi"
   },
   "source": [
    "## Step 2: Friendship paradox extreme examples\n",
    "\n",
    "Now let's apply some of these tools to the friendship paradox. We will start by using `networkx`'s graph generators to construct a graph for us, then we will calculate the average degree of the network. Once that is done we will calculate the average degree of the neighbors of a few random nodes in the network and compare those values with the degree of the nodes themselves.\n",
    "\n",
    "The one extreme example is the star network where the friendship paradox is extremely strong. Except the node at the center (the star), all other nodes have only one neighbor who are connected to everyone. \n",
    "\n"
   ]
  },
  {
   "cell_type": "code",
   "execution_count": null,
   "metadata": {
    "colab": {
     "base_uri": "https://localhost:8080/",
     "height": 319
    },
    "executionInfo": {
     "elapsed": 850,
     "status": "ok",
     "timestamp": 1675009560705,
     "user": {
      "displayName": "Ashutosh Hathidara",
      "userId": "09642124213384184129"
     },
     "user_tz": 300
    },
    "id": "cagdnupMtILi",
    "outputId": "816525cb-99a3-4903-dece-690f23c16151"
   },
   "outputs": [],
   "source": [
    "star_graph = nx.star_graph(n=20)\n",
    "nx.draw_networkx(star_graph)"
   ]
  },
  {
   "cell_type": "code",
   "execution_count": null,
   "metadata": {
    "colab": {
     "base_uri": "https://localhost:8080/"
    },
    "executionInfo": {
     "elapsed": 2,
     "status": "ok",
     "timestamp": 1675009561061,
     "user": {
      "displayName": "Ashutosh Hathidara",
      "userId": "09642124213384184129"
     },
     "user_tz": 300
    },
    "id": "L53oW9RqtILi",
    "outputId": "dc433f8f-8573-4657-bdad-f8ea97893c73"
   },
   "outputs": [],
   "source": [
    "# Lets calculate the average degree of the graph\n",
    "degree_sum = 0.0\n",
    "for node in star_graph.nodes():\n",
    "    degree_sum += star_graph.degree(node)\n",
    "avg_degree = degree_sum / len(star_graph)\n",
    "print(\"Average degree\", avg_degree)"
   ]
  },
  {
   "cell_type": "code",
   "execution_count": null,
   "metadata": {
    "colab": {
     "base_uri": "https://localhost:8080/"
    },
    "executionInfo": {
     "elapsed": 7,
     "status": "ok",
     "timestamp": 1675009562454,
     "user": {
      "displayName": "Ashutosh Hathidara",
      "userId": "09642124213384184129"
     },
     "user_tz": 300
    },
    "id": "XaAblfvltILj",
    "outputId": "674a8f2f-5cdb-4883-f8ac-3bf22a9b6616"
   },
   "outputs": [],
   "source": [
    "# Now lets do it in one line using numpy and list comprehension\n",
    "\n",
    "# Calculate the average degree of the nodes in the graph\n",
    "avg_degree = np.mean([star_graph.degree(node) for node in star_graph.nodes()])\n",
    "print(\"Average degree:\",avg_degree)"
   ]
  },
  {
   "cell_type": "markdown",
   "metadata": {
    "id": "MWP3-8RltILj"
   },
   "source": [
    "To calculate the mean, we used [numpy's mean function](http://docs.scipy.org/doc/numpy/reference/generated/numpy.mean.html), which can come in handy for quickly calculating the mean of a list or sequence along an axis. So I passed the list comprehension directly to ```np.mean``` and it returned the mean of that list. \n",
    "\n",
    "Note: Numpy uses its own data types for carrying out calculations, so if you print a numpy float it will display differently than if you printed a python float, which is why we get the intentional truncation of the value when displayed.\n",
    "\n",
    "For basic graph information, networkx also has the [info()](https://networkx.github.io/documentation/stable/reference/generated/networkx.classes.function.info.html)\n",
    "function:"
   ]
  },
  {
   "cell_type": "code",
   "execution_count": null,
   "metadata": {
    "colab": {
     "base_uri": "https://localhost:8080/",
     "height": 166
    },
    "executionInfo": {
     "elapsed": 334,
     "status": "error",
     "timestamp": 1675009569718,
     "user": {
      "displayName": "Ashutosh Hathidara",
      "userId": "09642124213384184129"
     },
     "user_tz": 300
    },
    "id": "2mBwjPIdtILj",
    "outputId": "762c6c39-3803-4dc5-956f-6a184d261360",
    "scrolled": true
   },
   "outputs": [],
   "source": [
    "print(star_graph)"
   ]
  },
  {
   "cell_type": "markdown",
   "metadata": {
    "id": "QIrmj6bHtILj"
   },
   "source": [
    "### Q: Average neighbor degree\n",
    "\n",
    "Now that you have seen some examples of networkx and numpy, we want you to complete the star graph example by writing a function below that calculates the average degree of a node's neighbors. Test this function to make sure that there is only one node with average neighbor degree of 1 and everyone else has 20. \n",
    "\n",
    "This involves find all of a node's neighbors and then taking the average of their degrees. The input arguments into the function should be a node and a networkx graph. The function should return a single value: the average neighbor degree for the given node. You should [learn about how to define and use Python functions](https://www.google.com/search?q=python+function&oq=python+func&aqs=chrome.0.0j69i57j0l4.2723j1j7&sourceid=chrome&ie=UTF-8) if you're not familiar with them yet. Use the space provided below:"
   ]
  },
  {
   "cell_type": "code",
   "execution_count": null,
   "metadata": {
    "colab": {
     "base_uri": "https://localhost:8080/"
    },
    "executionInfo": {
     "elapsed": 5,
     "status": "ok",
     "timestamp": 1675009571833,
     "user": {
      "displayName": "Ashutosh Hathidara",
      "userId": "09642124213384184129"
     },
     "user_tz": 300
    },
    "id": "wcckqaF2tILj",
    "outputId": "183fc3ef-2e1a-46aa-ea8e-e265a801a996"
   },
   "outputs": [],
   "source": [
    "def avg_neighbor_degree(G, node):\n",
    "    ### BEGIN SOLUTION\n",
    "    return np.mean([G.degree(x) for x in G.neighbors(node)])\n",
    "    ### END SOLUTION\n",
    "    return 0\n",
    "\n",
    "# Test your function here\n",
    "for node in star_graph.nodes():\n",
    "    print(avg_neighbor_degree(star_graph, node))"
   ]
  },
  {
   "cell_type": "markdown",
   "metadata": {
    "id": "7WmJji95tILj"
   },
   "source": [
    "### Q: Testing the friendship paradox\n",
    "\n",
    "We would like to check whether the friendship paradox holds for a network. The friendship paradox can be described in many different ways. Here, let's determine what fraction of nodes in the graph have a larger average neighbor degree than their own. The larger the fraction, the stronger the effect of the friendship paradox. \n",
    "\n",
    "For each node we need to find its degree, then average neighbor degree (calculated with the previous function you made). If the average is greater, then it holds for that node. To get the fraction, we can count up all the nodes it holds for and divide by the total number of nodes. Write a function below that will do this for a graph:"
   ]
  },
  {
   "cell_type": "code",
   "execution_count": null,
   "metadata": {
    "colab": {
     "base_uri": "https://localhost:8080/"
    },
    "executionInfo": {
     "elapsed": 289,
     "status": "ok",
     "timestamp": 1675009574776,
     "user": {
      "displayName": "Ashutosh Hathidara",
      "userId": "09642124213384184129"
     },
     "user_tz": 300
    },
    "id": "hmaTeKfItILk",
    "outputId": "ce541d9e-c2b3-4173-8ff8-4aec6e92b102"
   },
   "outputs": [],
   "source": [
    "### BEGIN SOLUTION\n",
    "def test_fp_for_node(G, node):\n",
    "    return G.degree(node) < avg_neighbor_degree(G, node)    \n",
    "\n",
    "np.mean([test_fp_for_node(star_graph, node) for node in star_graph.nodes()])\n",
    "### END SOLUTION    "
   ]
  },
  {
   "cell_type": "markdown",
   "metadata": {
    "id": "YPh6ve3ktILk"
   },
   "source": [
    "Even though the star graph is a fairly trivial example it does display the friendship paradox. It is an extreme case where the average degree of the network is wildly different from the average degree of your neighbors. For all but one node (the center node 0) you have fewer friends than your friends.\n",
    "\n",
    "You can use the star graph to check if you functions work, since we know it holds in that case."
   ]
  },
  {
   "cell_type": "markdown",
   "metadata": {
    "id": "UzYVy9d-U8TA"
   },
   "source": [
    "### Q: The other extreme?\n",
    "\n",
    "Can you come up with the other extreme? Find a network where there is no friendship paradox whatsoever. In other words, for every node, their degree is the same as the any of its neighbor's degree. Can you do the same thing above to test whether this is really the case?"
   ]
  },
  {
   "cell_type": "code",
   "execution_count": null,
   "metadata": {
    "colab": {
     "base_uri": "https://localhost:8080/"
    },
    "executionInfo": {
     "elapsed": 273,
     "status": "ok",
     "timestamp": 1675009578607,
     "user": {
      "displayName": "Ashutosh Hathidara",
      "userId": "09642124213384184129"
     },
     "user_tz": 300
    },
    "id": "b9Vpd8cwVc3T",
    "outputId": "4d15572c-4561-442c-c2bb-58beae5c3b0a"
   },
   "outputs": [],
   "source": [
    "### BEGIN SOLUTION\n",
    "\n",
    "# Create a fully connected graph\n",
    "complete_graph = nx.complete_graph(20)\n",
    "\n",
    "# Find fraction of nodes the friendship paradox holds\n",
    "np.mean([test_fp_for_node(complete_graph, node) for node in complete_graph.nodes()])\n",
    "### END SOLUTION"
   ]
  },
  {
   "cell_type": "markdown",
   "metadata": {
    "id": "BuHDGvcmtILk"
   },
   "source": [
    "## Step 3: Friendship paradox assignment\n",
    "\n",
    "Your task is to apply your function to two other types of graphs: a scale-free graph and a random graph. Random graphs are generated from randomly connecting nodes together, with each node having the same probability of being connected to any other node. They don't have much structure to them. Below is a visualization of a random graph:"
   ]
  },
  {
   "cell_type": "code",
   "execution_count": null,
   "metadata": {
    "colab": {
     "base_uri": "https://localhost:8080/",
     "height": 319
    },
    "executionInfo": {
     "elapsed": 326,
     "status": "ok",
     "timestamp": 1675009589429,
     "user": {
      "displayName": "Ashutosh Hathidara",
      "userId": "09642124213384184129"
     },
     "user_tz": 300
    },
    "id": "3KUYy-rvtILk",
    "outputId": "291c8cd0-8c39-484c-e7a8-50199476c042"
   },
   "outputs": [],
   "source": [
    "# Draw a random graph with 20 nodes and a connection\n",
    "# probability of 0.3\n",
    "rnd_graph = nx.erdos_renyi_graph(n=20, p=0.3)\n",
    "nx.draw_networkx(rnd_graph)"
   ]
  },
  {
   "cell_type": "markdown",
   "metadata": {
    "id": "cSllOVAmtILk"
   },
   "source": [
    "Alternatively, scale-free graphs are graphs where nodes are preferentially attached to nodes with higher degree. This results in structures called 'hubs' which are nodes that have very high degree. Below is a visualization of one such network:"
   ]
  },
  {
   "cell_type": "code",
   "execution_count": null,
   "metadata": {
    "colab": {
     "base_uri": "https://localhost:8080/",
     "height": 319
    },
    "executionInfo": {
     "elapsed": 466,
     "status": "ok",
     "timestamp": 1675009591697,
     "user": {
      "displayName": "Ashutosh Hathidara",
      "userId": "09642124213384184129"
     },
     "user_tz": 300
    },
    "id": "lG8mwi0DtILk",
    "outputId": "9c7ae132-5c97-4427-9305-c2c943ff174f"
   },
   "outputs": [],
   "source": [
    "# Draw a scale-free graph with 20 nodes\n",
    "sf_graph = nx.barabasi_albert_graph(n=20, m=4)\n",
    "nx.draw_networkx(sf_graph)"
   ]
  },
  {
   "cell_type": "markdown",
   "metadata": {
    "id": "__v1XL7MtILl"
   },
   "source": [
    "Unlike in the random graph where nodes tend to have comparable degrees that are situated pretty close to the average, the scale-free graph has many low degree nodes and a few very high degree nodes which we can see in the figure above. Many social networks tend to have this hub-like structure. We will be testing out the friendship paradox on both types of networks.\n",
    "\n",
    "You can use networkx's generator functions for making the [scale-free graph](https://networkx.github.io/documentation/stable/reference/generated/networkx.generators.random_graphs.barabasi_albert_graph.html) and the [random graph](https://networkx.github.io/documentation/stable/reference/generated/networkx.generators.random_graphs.erdos_renyi_graph.html). "
   ]
  },
  {
   "cell_type": "markdown",
   "metadata": {
    "id": "uxiHIA2qtILl"
   },
   "source": [
    "### Q: Scale-free graph\n",
    "For the scale-free graph use the parameters ```n=200``` and ```m=3```. You should answer the following questions:\n",
    "\n",
    "#### 1. What is the average degree of the graph?"
   ]
  },
  {
   "cell_type": "code",
   "execution_count": null,
   "metadata": {
    "colab": {
     "base_uri": "https://localhost:8080/"
    },
    "executionInfo": {
     "elapsed": 293,
     "status": "ok",
     "timestamp": 1675009602247,
     "user": {
      "displayName": "Ashutosh Hathidara",
      "userId": "09642124213384184129"
     },
     "user_tz": 300
    },
    "id": "h7RBbJ1CtILl",
    "outputId": "2b6fd197-fd22-44bb-e6b0-ab48c7cfb32a"
   },
   "outputs": [],
   "source": [
    "### BEGIN SOLUTION\n",
    "sf_graph = nx.barabasi_albert_graph(n=200, m=3)\n",
    "np.mean([sf_graph.degree(node) for node in sf_graph.nodes()])\n",
    "### END SOLUTION"
   ]
  },
  {
   "cell_type": "markdown",
   "metadata": {
    "id": "HduUMi5ftILl"
   },
   "source": [
    "#### 2. What fraction of nodes in the graph have a larger average neighbor degree than their degree?"
   ]
  },
  {
   "cell_type": "code",
   "execution_count": null,
   "metadata": {
    "colab": {
     "base_uri": "https://localhost:8080/"
    },
    "executionInfo": {
     "elapsed": 803,
     "status": "ok",
     "timestamp": 1675009619679,
     "user": {
      "displayName": "Ashutosh Hathidara",
      "userId": "09642124213384184129"
     },
     "user_tz": 300
    },
    "id": "LkKFzw2MtILl",
    "outputId": "7259cc92-7361-40ed-ba4a-6c7b2cff4a1e"
   },
   "outputs": [],
   "source": [
    "### BEGIN SOLUTION\n",
    "np.mean([test_fp_for_node(sf_graph, node) for node in sf_graph.nodes()])\n",
    "### END SOLUTION"
   ]
  },
  {
   "cell_type": "markdown",
   "metadata": {
    "id": "M7kUb4DEtILm"
   },
   "source": [
    "#### 3. Did the friendship paradox occur in the scale-free graph? If so, why did it? If not, why not? (provide your response in the markdown cell below)"
   ]
  },
  {
   "cell_type": "markdown",
   "metadata": {
    "id": "wOrVXRyFtILm"
   },
   "source": [
    "### BEGIN SOLUTION\n",
    "The friendship paradox did occur because the graph has a couple, high-degree nodes. There is a high probability that each node is connected to the high degree nodes, which increases the average degree of a node's neighbors.\n",
    "### END SOLUTION"
   ]
  },
  {
   "cell_type": "markdown",
   "metadata": {
    "id": "_KGwzYuQtILm"
   },
   "source": [
    "### Q: Random graph\n",
    "\n",
    "For the erdos-renyi graph use the parameters ```n=200``` and ```p=0.2```.\n",
    "\n",
    "#### 1. What is the average degree of the graph?"
   ]
  },
  {
   "cell_type": "code",
   "execution_count": null,
   "metadata": {
    "colab": {
     "base_uri": "https://localhost:8080/"
    },
    "executionInfo": {
     "elapsed": 265,
     "status": "ok",
     "timestamp": 1675009702332,
     "user": {
      "displayName": "Ashutosh Hathidara",
      "userId": "09642124213384184129"
     },
     "user_tz": 300
    },
    "id": "g3yV3tNctILm",
    "outputId": "3a416a57-89de-447b-f342-085113ceaa97"
   },
   "outputs": [],
   "source": [
    "### BEGIN SOLUTION\n",
    "rnd_graph = nx.erdos_renyi_graph(n=200, p=0.2)\n",
    "np.mean([rnd_graph.degree(node) for node in rnd_graph.nodes()])\n",
    "### END SOLUTION"
   ]
  },
  {
   "cell_type": "markdown",
   "metadata": {
    "id": "J0KLPPzltILm"
   },
   "source": [
    "#### 2. What fraction of nodes in the graph have a larger average neighbor degree than their degree?"
   ]
  },
  {
   "cell_type": "code",
   "execution_count": null,
   "metadata": {
    "colab": {
     "base_uri": "https://localhost:8080/"
    },
    "executionInfo": {
     "elapsed": 278,
     "status": "ok",
     "timestamp": 1675009716970,
     "user": {
      "displayName": "Ashutosh Hathidara",
      "userId": "09642124213384184129"
     },
     "user_tz": 300
    },
    "id": "djC3u7ahtILm",
    "outputId": "026ae5e8-0160-4d7d-8f37-a52eda739031"
   },
   "outputs": [],
   "source": [
    "### BEGIN SOLUTION\n",
    "np.mean([test_fp_for_node(rnd_graph, node) for node in rnd_graph.nodes()])\n",
    "### END SOLUTION"
   ]
  },
  {
   "cell_type": "markdown",
   "metadata": {
    "id": "Shd8mt4qtILm"
   },
   "source": [
    "#### 3. Did the friendship paradox occur in the random graph? If so, why did it? If not, why not?"
   ]
  },
  {
   "cell_type": "markdown",
   "metadata": {
    "id": "XTL7DQ5ZtILm"
   },
   "source": [
    "### BEGIN SOLUTION\n",
    "\n",
    "It still occurs in the random graph, but not as strongly as in the scale-free graph. It occurs because the degree distribution's variance is still non-zero. \n",
    "\n",
    "The friendship paradox did not occur as strongly because all nodes will have roughly the same degree. The degree of a node will be sampled from a binomial distribution, and the probability of high degree \"hubs\" forming will be significantly lower in a binomial distribution.\n",
    "\n",
    "### END SOLUTION"
   ]
  },
  {
   "cell_type": "markdown",
   "metadata": {
    "id": "TNjnPg6dtILm"
   },
   "source": [
    "**Rename your notebook as 'friendship_lastname_firstname'. Export it as an HTML file as well. Upload both to Canvas.**"
   ]
  },
  {
   "cell_type": "markdown",
   "metadata": {
    "id": "5WZjTk65Wg7-"
   },
   "source": [
    "# Optional exercise\n",
    "\n",
    "Above, we compared the node's degree with the _average degree of its neighbors_. But we can also ask: what's the probability that a _random neighbor of a randomly chosen node_ has a larger degree than the randomly chosen node? Can you test this? "
   ]
  },
  {
   "cell_type": "code",
   "execution_count": null,
   "metadata": {
    "id": "MA9sysi-WiPU"
   },
   "outputs": [],
   "source": []
  },
  {
   "cell_type": "markdown",
   "metadata": {
    "id": "2x2NqsWoY8LP"
   },
   "source": [
    "Also, we have only examined model networks. How about real networks? There are several repositories of real-world networks. For instance,\n",
    "\n",
    "- https://icon.colorado.edu\n",
    "- https://networks.skewed.de \n",
    "\n",
    "It may be fun to test how many networks you can find that have the friendship paradox!"
   ]
  },
  {
   "cell_type": "code",
   "execution_count": null,
   "metadata": {
    "id": "54JI3XHhY8jE"
   },
   "outputs": [],
   "source": []
  },
  {
   "cell_type": "markdown",
   "metadata": {
    "id": "DsXgDQel1li3"
   },
   "source": [
    "Networkx is great, but it is not as fast as other \"serious\" libraries. You can try this exercise using other libraries including: \n",
    "\n",
    "- igraph: https://igraph.org/python/\n",
    "- graphtool: https://graph-tool.skewed.de/"
   ]
  },
  {
   "cell_type": "markdown",
   "metadata": {
    "id": "r_AanwTB1li3"
   },
   "source": []
  }
 ],
 "metadata": {
  "anaconda-cloud": {},
  "colab": {
   "provenance": [
    {
     "file_id": "https://github.com/yy/netsci-course/blob/master/m02-whynetworks/friendship_paradox.ipynb",
     "timestamp": 1642266399920
    }
   ]
  },
  "kernelspec": {
   "display_name": "Python 3 (ipykernel)",
   "language": "python",
   "name": "python3"
  },
  "language_info": {
   "codemirror_mode": {
    "name": "ipython",
    "version": 3
   },
   "file_extension": ".py",
   "mimetype": "text/x-python",
   "name": "python",
   "nbconvert_exporter": "python",
   "pygments_lexer": "ipython3",
   "version": "3.10.4"
  },
  "vscode": {
   "interpreter": {
    "hash": "b0fa6594d8f4cbf19f97940f81e996739fb7646882a419484c72d19e05852a7e"
   }
  }
 },
 "nbformat": 4,
 "nbformat_minor": 4
}
